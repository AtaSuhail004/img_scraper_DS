{
 "cells": [
  {
   "cell_type": "code",
   "execution_count": 64,
   "id": "a55c8265",
   "metadata": {},
   "outputs": [],
   "source": [
    "import requests\n",
    "import logging\n",
    "import os\n",
    "from bs4 import BeautifulSoup\n",
    "from urllib.request import urlopen"
   ]
  },
  {
   "cell_type": "code",
   "execution_count": null,
   "id": "57013b6b",
   "metadata": {},
   "outputs": [],
   "source": []
  },
  {
   "cell_type": "code",
   "execution_count": 65,
   "id": "88490aab",
   "metadata": {},
   "outputs": [],
   "source": [
    "save_dir = 'images/'\n",
    "if not os.path.exists(save_dir):\n",
    "    os.makedirs(save_dir)\n"
   ]
  },
  {
   "cell_type": "code",
   "execution_count": 66,
   "id": "de03968c",
   "metadata": {},
   "outputs": [],
   "source": [
    "query = 'virat kohli'\n",
    "#url = https://www.google.com/search?q=query&sca_esv=595284512&tbm=isch&sxsrf=AM9HkKnoXusCC5hwrFDyIUj7Se5J6e1ppw:1704262811038&source=lnms&sa=X&ved=2ahUKEwj5sNLbycCDAxWqjGMGHeRJAqUQ_AUoAnoECAIQBA&biw=1280&bih=593&dpr=2"
   ]
  },
  {
   "cell_type": "code",
   "execution_count": 67,
   "id": "a7c2df67",
   "metadata": {},
   "outputs": [],
   "source": [
    "response = requests.get(f\"https://www.google.com/search?q={query}&sca_esv=595284512&tbm=isch&sxsrf=AM9HkKnoXusCC5hwrFDyIUj7Se5J6e1ppw:1704262811038&source=lnms&sa=X&ved=2ahUKEwj5sNLbycCDAxWqjGMGHeRJAqUQ_AUoAnoECAIQBA&biw=1280&bih=593&dpr=2\")"
   ]
  },
  {
   "cell_type": "code",
   "execution_count": 68,
   "id": "89cbbbce",
   "metadata": {},
   "outputs": [
    {
     "data": {
      "text/plain": [
       "<Response [200]>"
      ]
     },
     "execution_count": 68,
     "metadata": {},
     "output_type": "execute_result"
    }
   ],
   "source": [
    "response"
   ]
  },
  {
   "cell_type": "code",
   "execution_count": 69,
   "id": "167a1b01",
   "metadata": {},
   "outputs": [],
   "source": [
    "soup = BeautifulSoup(response.content, \"html.parser\")"
   ]
  },
  {
   "cell_type": "code",
   "execution_count": 70,
   "id": "b3e3e0e4",
   "metadata": {},
   "outputs": [],
   "source": [
    "img_tag = soup.find_all(\"img\")\n"
   ]
  },
  {
   "cell_type": "code",
   "execution_count": null,
   "id": "b40ea080",
   "metadata": {},
   "outputs": [],
   "source": []
  },
  {
   "cell_type": "code",
   "execution_count": null,
   "id": "31633adf",
   "metadata": {},
   "outputs": [],
   "source": []
  },
  {
   "cell_type": "code",
   "execution_count": 71,
   "id": "0d36fde6",
   "metadata": {},
   "outputs": [],
   "source": [
    "del img_tag[0]"
   ]
  },
  {
   "cell_type": "code",
   "execution_count": null,
   "id": "73cf8a3e",
   "metadata": {},
   "outputs": [],
   "source": []
  },
  {
   "cell_type": "code",
   "execution_count": 72,
   "id": "7666d529",
   "metadata": {},
   "outputs": [
    {
     "data": {
      "text/plain": [
       "20"
      ]
     },
     "execution_count": 72,
     "metadata": {},
     "output_type": "execute_result"
    }
   ],
   "source": [
    "len(img_tag)"
   ]
  },
  {
   "cell_type": "code",
   "execution_count": 73,
   "id": "b7efb660",
   "metadata": {},
   "outputs": [],
   "source": [
    "for i in img_tag:\n",
    "    img_url=i['src']\n",
    "    image_data = requests.get(img_url).content\n",
    "    with open(os.path.join(save_dir,f\"{query}_{img_tag.index(i)}.jpg\"),'wb')as f:\n",
    "        f.write(image_data)"
   ]
  },
  {
   "cell_type": "code",
   "execution_count": null,
   "id": "0b40b86a",
   "metadata": {},
   "outputs": [],
   "source": []
  }
 ],
 "metadata": {
  "kernelspec": {
   "display_name": "Python 3 (ipykernel)",
   "language": "python",
   "name": "python3"
  },
  "language_info": {
   "codemirror_mode": {
    "name": "ipython",
    "version": 3
   },
   "file_extension": ".py",
   "mimetype": "text/x-python",
   "name": "python",
   "nbconvert_exporter": "python",
   "pygments_lexer": "ipython3",
   "version": "3.11.5"
  }
 },
 "nbformat": 4,
 "nbformat_minor": 5
}
